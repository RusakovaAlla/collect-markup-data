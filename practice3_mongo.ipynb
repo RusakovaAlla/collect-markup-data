{
 "cells": [
  {
   "cell_type": "code",
   "execution_count": 1,
   "id": "519674bc",
   "metadata": {},
   "outputs": [],
   "source": [
    "import json\n",
    "from pymongo import MongoClient"
   ]
  },
  {
   "cell_type": "code",
   "execution_count": 71,
   "id": "f6071cda",
   "metadata": {},
   "outputs": [],
   "source": [
    "client = MongoClient(\"localhost\", 27017)\n",
    "db = client[\"CM_data\"]"
   ]
  },
  {
   "cell_type": "code",
   "execution_count": 3,
   "id": "243b5322",
   "metadata": {},
   "outputs": [],
   "source": [
    "collection = db[\"scrapped_books\"]\n",
    "client = MongoClient(\"localhost\", 27017)"
   ]
  },
  {
   "cell_type": "code",
   "execution_count": 25,
   "id": "aa0d7661",
   "metadata": {},
   "outputs": [],
   "source": [
    "with open(\"book_list_fromDF.json\", \"r\") as library:    \n",
    "    data = json.load(library)"
   ]
  },
  {
   "cell_type": "code",
   "execution_count": 26,
   "id": "96babc67",
   "metadata": {},
   "outputs": [],
   "source": [
    "def chunk_data(data, chunk_size):\n",
    "    for i in range(0, len(data), chunk_size):\n",
    "        yield data[i:i+chunk_size]"
   ]
  },
  {
   "cell_type": "code",
   "execution_count": 27,
   "id": "0ec754d0",
   "metadata": {},
   "outputs": [],
   "source": [
    "chuck_size = 100 #у нас всего 1000 книг\n",
    "data_chunks = list(chunk_data(data, chuck_size))"
   ]
  },
  {
   "cell_type": "code",
   "execution_count": 28,
   "id": "8c1aeef5",
   "metadata": {},
   "outputs": [
    {
     "name": "stdout",
     "output_type": "stream",
     "text": [
      "Данные успешно вставлены.\n"
     ]
    }
   ],
   "source": [
    "for chunk in data_chunks:\n",
    "    collection.insert_many(chunk)\n",
    "\n",
    "print(\"Данные загружены.\")"
   ]
  },
  {
   "cell_type": "code",
   "execution_count": 72,
   "id": "9b39dfae",
   "metadata": {},
   "outputs": [],
   "source": [
    "all_docs = collection.find()\n",
    "first_doc = all_docs[0]"
   ]
  },
  {
   "cell_type": "code",
   "execution_count": 73,
   "id": "24a2af1e",
   "metadata": {},
   "outputs": [
    {
     "data": {
      "text/plain": [
       "{'_id': ObjectId('65b3b0d41d3196a72d473e23'),\n",
       " 'Title': \"It's Only the Himalayas\",\n",
       " 'Price, £': 45.17,\n",
       " 'In stock': 19,\n",
       " 'Description': '“Wherever you go, whatever you do, just . . . don’t do anything stupid.” —My MotherDuring her yearlong adventure backpacking from South Africa to Singapore, S. Bedford definitely did a few things her mother might classify as \"stupid.\" She swam with great white sharks in South Africa, ran from lions in Zimbabwe, climbed a Himalayan mountain without training in Nepal, and wa “Wherever you go, whatever you do, just . . . don’t do anything stupid.” —My MotherDuring her yearlong adventure backpacking from South Africa to Singapore, S. Bedford definitely did a few things her mother might classify as \"stupid.\" She swam with great white sharks in South Africa, ran from lions in Zimbabwe, climbed a Himalayan mountain without training in Nepal, and watched as her friend was attacked by a monkey in Indonesia.But interspersed in those slightly more crazy moments, Sue Bedfored and her friend \"Sara the Stoic\" experienced the sights, sounds, life, and culture of fifteen countries. Joined along the way by a few friends and their aging fathers here and there, Sue and Sara experience the trip of a lifetime. They fall in love with the world, cultivate an appreciation for home, and discover who, or what, they want to become.It\\'s Only the Himalayas is the incredibly funny, sometimes outlandish, always entertaining confession of a young backpacker that will inspire you to take your own adventure. ...more',\n",
       " 'Category': 'Travel'}"
      ]
     },
     "execution_count": 73,
     "metadata": {},
     "output_type": "execute_result"
    }
   ],
   "source": [
    "first_doc"
   ]
  },
  {
   "cell_type": "code",
   "execution_count": 32,
   "id": "8bcd7324",
   "metadata": {},
   "outputs": [
    {
     "name": "stdout",
     "output_type": "stream",
     "text": [
      "{\n",
      "  \"_id\": \"65b3b0d41d3196a72d473e23\",\n",
      "  \"Title\": \"It's Only the Himalayas\",\n",
      "  \"Price, \\u00a3\": 45.17,\n",
      "  \"In stock\": 19,\n",
      "  \"Description\": \"\\u201cWherever you go, whatever you do, just . . . don\\u2019t do anything stupid.\\u201d \\u2014My MotherDuring her yearlong adventure backpacking from South Africa to Singapore, S. Bedford definitely did a few things her mother might classify as \\\"stupid.\\\" She swam with great white sharks in South Africa, ran from lions in Zimbabwe, climbed a Himalayan mountain without training in Nepal, and wa \\u201cWherever you go, whatever you do, just . . . don\\u2019t do anything stupid.\\u201d \\u2014My MotherDuring her yearlong adventure backpacking from South Africa to Singapore, S. Bedford definitely did a few things her mother might classify as \\\"stupid.\\\" She swam with great white sharks in South Africa, ran from lions in Zimbabwe, climbed a Himalayan mountain without training in Nepal, and watched as her friend was attacked by a monkey in Indonesia.But interspersed in those slightly more crazy moments, Sue Bedfored and her friend \\\"Sara the Stoic\\\" experienced the sights, sounds, life, and culture of fifteen countries. Joined along the way by a few friends and their aging fathers here and there, Sue and Sara experience the trip of a lifetime. They fall in love with the world, cultivate an appreciation for home, and discover who, or what, they want to become.It's Only the Himalayas is the incredibly funny, sometimes outlandish, always entertaining confession of a young backpacker that will inspire you to take your own adventure. ...more\",\n",
      "  \"Category\": \"Travel\"\n",
      "}\n"
     ]
    }
   ],
   "source": [
    "pretty_json = json.dumps(first_doc, indent=2, default=str)\n",
    "print(pretty_json)"
   ]
  },
  {
   "cell_type": "code",
   "execution_count": 33,
   "id": "c0a72a63",
   "metadata": {},
   "outputs": [
    {
     "name": "stdout",
     "output_type": "stream",
     "text": [
      "Число записей в базе данных: 1000\n"
     ]
    }
   ],
   "source": [
    "# Получение количества документов в коллекции с помощью функции count_documents()\n",
    "count = collection.count_documents({})\n",
    "print(f'Число записей в базе данных: {count}')"
   ]
  },
  {
   "cell_type": "code",
   "execution_count": 36,
   "id": "8958582f",
   "metadata": {},
   "outputs": [
    {
     "name": "stdout",
     "output_type": "stream",
     "text": [
      "Количество наименований с остатком больше 5: 580\n"
     ]
    }
   ],
   "source": [
    "# фильтрация документов по критериям: количество на остатках > 5 единиц\n",
    "query = {\"In stock\": {\"$gt\": 5}}\n",
    "print(f\"Количество наименований с остатком больше 5: {collection.count_documents(query)}\")"
   ]
  },
  {
   "cell_type": "code",
   "execution_count": 48,
   "id": "99463489",
   "metadata": {},
   "outputs": [
    {
     "name": "stdout",
     "output_type": "stream",
     "text": [
      "{'Title': \"It's Only the Himalayas\", 'Price, £': 45.17}\n",
      "{'Title': 'Sharp Objects', 'Price, £': 47.82}\n",
      "{'Title': 'In a Dark, Dark Wood', 'Price, £': 19.63}\n",
      "{'Title': 'The Past Never Ends', 'Price, £': 56.5}\n",
      "{'Title': 'A Murder in Time', 'Price, £': 16.64}\n",
      "{'Title': 'Tipping the Velvet', 'Price, £': 53.74}\n",
      "{'Title': 'Forever and Forever: The Courtship of Henry Longfellow and Fanny Appleton', 'Price, £': 29.69}\n",
      "{'Title': 'A Flight of Arrows (The Pathfinders #2)', 'Price, £': 55.53}\n",
      "{'Title': \"Scott Pilgrim's Precious Little Life (Scott Pilgrim #1)\", 'Price, £': 52.29}\n",
      "{'Title': 'Tsubasa: WoRLD CHRoNiCLE 2 (Tsubasa WoRLD CHRoNiCLE #2)', 'Price, £': 16.28}\n",
      "{'Title': 'This One Summer', 'Price, £': 19.49}\n",
      "{'Title': 'The Nameless City (The Nameless City #1)', 'Price, £': 38.16}\n",
      "{'Title': 'Saga, Volume 5 (Saga (Collected Editions) #5)', 'Price, £': 51.04}\n",
      "{'Title': 'Rat Queens, Vol. 3: Demons (Rat Queens (Collected Editions) #11-15)', 'Price, £': 50.4}\n",
      "{'Title': 'Princess Jellyfish 2-in-1 Omnibus, Vol. 01 (Princess Jellyfish 2-in-1 Omnibus #1)', 'Price, £': 13.61}\n",
      "{'Title': 'Pop Gun War, Volume 1: Gift', 'Price, £': 18.97}\n",
      "{'Title': 'Patience', 'Price, £': 10.16}\n",
      "{'Title': 'Outcast, Vol. 1: A Darkness Surrounds Him (Outcast #1)', 'Price, £': 15.44}\n",
      "{'Title': 'orange: The Complete Collection 1 (orange: The Complete Collection #1)', 'Price, £': 48.41}\n",
      "{'Title': 'Lumberjanes, Vol. 2: Friendship to the Max (Lumberjanes #5-8)', 'Price, £': 46.91}\n",
      "{'Title': 'Lumberjanes, Vol. 1: Beware the Kitten Holy (Lumberjanes #1-4)', 'Price, £': 45.61}\n",
      "{'Title': 'Lumberjanes Vol. 3: A Terrible Plan (Lumberjanes #9-12)', 'Price, £': 19.92}\n",
      "{'Title': 'I Hate Fairyland, Vol. 1: Madly Ever After (I Hate Fairyland (Compilations) #1-5)', 'Price, £': 29.17}\n",
      "{'Title': 'I am a Hero Omnibus Volume 1', 'Price, £': 54.63}\n",
      "{'Title': 'Giant Days, Vol. 2 (Giant Days #5-8)', 'Price, £': 22.11}\n",
      "{'Title': 'Danganronpa Volume 1', 'Price, £': 51.99}\n",
      "{'Title': 'Codename Baboushka, Volume 1: The Conclave of Death', 'Price, £': 36.72}\n",
      "{'Title': 'Camp Midnight', 'Price, £': 17.08}\n",
      "{'Title': 'Bitch Planet, Vol. 1: Extraordinary Machine (Bitch Planet (Collected Editions))', 'Price, £': 37.92}\n",
      "{'Title': \"Sophie's World\", 'Price, £': 15.94}\n",
      "{'Title': 'The Death of Humanity: and the Case for Life', 'Price, £': 58.11}\n",
      "{'Title': 'Chase Me (Paris Nights #2)', 'Price, £': 25.27}\n",
      "{'Title': 'Black Dust', 'Price, £': 34.53}\n",
      "{'Title': 'Her Backup Boyfriend (The Sorensen Family #1)', 'Price, £': 33.97}\n",
      "{'Title': 'First and First (Five Boroughs #3)', 'Price, £': 15.97}\n",
      "{'Title': 'Fifty Shades Darker (Fifty Shades #2)', 'Price, £': 21.96}\n",
      "{'Title': 'Soumission', 'Price, £': 50.1}\n",
      "{'Title': 'Private Paris (Private #10)', 'Price, £': 47.61}\n",
      "{'Title': 'We Love You, Charlie Freeman', 'Price, £': 50.27}\n",
      "{'Title': 'Thirst', 'Price, £': 17.27}\n",
      "{'Title': 'The Murder That Never Was (Forensic Instincts #5)', 'Price, £': 54.11}\n",
      "{'Title': 'Birdsong: A Story in Pictures', 'Price, £': 54.64}\n",
      "{'Title': 'The Bear and the Piano', 'Price, £': 36.89}\n",
      "{'Title': 'The Secret of Dreadwillow Carse', 'Price, £': 56.13}\n",
      "{'Title': \"Don't Be a Jerk: And Other Practical Advice from Dogen, Japan's Greatest Zen Master\", 'Price, £': 37.97}\n",
      "{'Title': 'Worlds Elsewhere: Journeys Around Shakespeare’s Globe', 'Price, £': 40.3}\n",
      "{'Title': 'The Five Love Languages: How to Express Heartfelt Commitment to Your Mate', 'Price, £': 31.05}\n",
      "{'Title': 'Reasons to Stay Alive', 'Price, £': 26.41}\n",
      "{'Title': '#HigherSelfie: Wake Up Your Life. Free Your Soul. Find Your Tribe.', 'Price, £': 23.11}\n",
      "{'Title': 'Unseen City: The Majesty of Pigeons, the Discreet Charm of Snails & Other Wonders of the Urban Wilderness', 'Price, £': 44.18}\n",
      "{'Title': 'Throwing Rocks at the Google Bus: How Growth Became the Enemy of Prosperity', 'Price, £': 31.12}\n",
      "{'Title': 'The Life-Changing Magic of Tidying Up: The Japanese Art of Decluttering and Organizing', 'Price, £': 16.77}\n",
      "{'Title': 'The Gutsy Girl: Escapades for Your Life of Epic Adventure', 'Price, £': 37.13}\n",
      "{'Title': 'The Electric Pencil: Drawings from Inside State Hospital No. 3', 'Price, £': 56.06}\n",
      "{'Title': 'Spark Joy: An Illustrated Master Class on the Art of Organizing and Tidying Up', 'Price, £': 41.83}\n",
      "{'Title': 'Reskilling America: Learning to Labor in the Twenty-First Century', 'Price, £': 19.83}\n",
      "{'Title': 'In the Country We Love: My Family Divided', 'Price, £': 22.0}\n",
      "{'Title': 'Everydata: The Misinformation Hidden in the Little Data You Consume Every Day', 'Price, £': 54.35}\n",
      "{'Title': 'Call the Nurse: True Stories of a Country Nurse on a Scottish Isle', 'Price, £': 29.14}\n",
      "{'Title': 'Algorithms to Live By: The Computer Science of Human Decisions', 'Price, £': 30.81}\n",
      "{'Title': 'Rip it Up and Start Again', 'Price, £': 35.02}\n",
      "{'Title': 'Our Band Could Be Your Life: Scenes from the American Indie Underground, 1981-1991', 'Price, £': 57.25}\n",
      "{'Title': 'How Music Works', 'Price, £': 37.32}\n",
      "{'Title': 'The Coming Woman: A Novel Based on the Life of the Infamous Feminist, Victoria Woodhull', 'Price, £': 17.93}\n",
      "{'Title': 'The Boys in the Boat: Nine Americans and Their Epic Quest for Gold at the 1936 Berlin Olympics', 'Price, £': 22.6}\n",
      "{'Title': 'Starving Hearts (Triangular Trade Trilogy, #1)', 'Price, £': 13.99}\n",
      "{'Title': \"America's Cradle of Quarterbacks: Western Pennsylvania's Football Factory from Johnny Unitas to Joe Montana\", 'Price, £': 22.5}\n",
      "{'Title': 'Aladdin and His Wonderful Lamp', 'Price, £': 53.13}\n",
      "{'Title': 'Penny Maybe', 'Price, £': 33.29}\n",
      "{'Title': 'Maude (1883-1993):She Grew Up with the country', 'Price, £': 18.02}\n",
      "{'Title': 'The Inefficiency Assassin: Time Management Tactics for Working Smarter, Not Longer', 'Price, £': 20.59}\n",
      "{'Title': 'Soul Reader', 'Price, £': 39.58}\n",
      "{'Title': 'Bossypants', 'Price, £': 49.46}\n",
      "{'Title': 'A World of Flavor: Your Gluten Free Passport', 'Price, £': 42.95}\n",
      "{'Title': 'A Piece of Sky, a Grain of Rice: A Memoir in Four Meditations', 'Price, £': 56.76}\n",
      "{'Title': 'Mesaerion: The Best Science Fiction Stories 1800-1849', 'Price, £': 37.59}\n",
      "{'Title': 'Join', 'Price, £': 35.67}\n",
      "{'Title': 'The Torch Is Passed: A Harding Family Story', 'Price, £': 19.09}\n",
      "{'Title': 'The Mindfulness and Acceptance Workbook for Anxiety: A Guide to Breaking Free from Anxiety, Phobias, and Worry Using Acceptance and Commitment Therapy', 'Price, £': 23.89}\n",
      "{'Title': 'The Art Forger', 'Price, £': 40.76}\n",
      "{'Title': 'On a Midnight Clear', 'Price, £': 14.07}\n",
      "{'Title': 'Judo: Seven Steps to Black Belt (an Introductory Guide for Beginners)', 'Price, £': 53.9}\n",
      "{'Title': 'Unicorn Tracks', 'Price, £': 18.78}\n",
      "{'Title': 'Saga, Volume 6 (Saga (Collected Editions) #6)', 'Price, £': 25.02}\n",
      "{'Title': 'Princess Between Worlds (Wide-Awake Princess #5)', 'Price, £': 13.34}\n",
      "{'Title': 'Masks and Shadows', 'Price, £': 56.4}\n",
      "{'Title': 'Crown of Midnight (Throne of Glass #2)', 'Price, £': 43.29}\n",
      "{'Title': 'Avatar: The Last Airbender: Smoke and Shadow, Part 3 (Smoke and Shadow #3)', 'Price, £': 28.09}\n",
      "{'Title': 'A Court of Thorns and Roses (A Court of Thorns and Roses #1)', 'Price, £': 52.37}\n",
      "{'Title': 'Without Borders (Wanderlove #1)', 'Price, £': 45.07}\n",
      "{'Title': 'The Requiem Red', 'Price, £': 22.65}\n",
      "{'Title': 'Set Me Free', 'Price, £': 17.46}\n",
      "{'Title': 'The Natural History of Us (The Fine Art of Pretending #2)', 'Price, £': 45.22}\n",
      "{'Title': 'Obsidian (Lux #1)', 'Price, £': 14.86}\n",
      "{'Title': 'Burning', 'Price, £': 28.81}\n",
      "{'Title': 'A Fierce and Subtle Poison', 'Price, £': 28.13}\n",
      "{'Title': \"The Most Perfect Thing: Inside (and Outside) a Bird's Egg\", 'Price, £': 42.96}\n",
      "{'Title': 'Immunity: How Elie Metchnikoff Changed the Course of Modern Medicine', 'Price, £': 57.36}\n",
      "{'Title': 'A Light in the Attic', 'Price, £': 51.77}\n",
      "{'Title': 'The Black Maria', 'Price, £': 52.15}\n",
      "{'Title': \"Shakespeare's Sonnets\", 'Price, £': 20.66}\n",
      "{'Title': 'Olio', 'Price, £': 23.88}\n",
      "{'Title': \"You can't bury them all: Poems\", 'Price, £': 33.63}\n",
      "{'Title': 'Slow States of Collapse: Poems', 'Price, £': 57.31}\n",
      "{'Title': 'Untitled Collection: Sabbath Poems 2014', 'Price, £': 14.27}\n",
      "{'Title': 'Wall and Piece', 'Price, £': 44.18}\n",
      "{'Title': 'Security', 'Price, £': 39.25}\n",
      "{'Title': 'Sapiens: A Brief History of Humankind', 'Price, £': 54.23}\n",
      "{'Title': 'Unbound: How Eight Technologies Made Us Human, Transformed Society, and Brought Our World to the Brink', 'Price, £': 25.52}\n",
      "{'Title': 'The Age of Genius: The Seventeenth Century and the Birth of the Modern Mind', 'Price, £': 19.73}\n",
      "{'Title': 'Political Suicide: Missteps, Peccadilloes, Bad Calls, Backroom Hijinx, Sordid Pasts, Rotten Breaks, and Just Plain Dumb Mistakes in the Annals of American Politics', 'Price, £': 36.28}\n",
      "{'Title': 'Foolproof Preserving: A Guide to Small Batch Jams, Jellies, Pickles, Condiments, and More: A Foolproof Guide to Making Small Batch Jams, Jellies, Pickles, Condiments, and More', 'Price, £': 30.52}\n",
      "{'Title': 'The Pioneer Woman Cooks: Dinnertime: Comfort Classics, Freezer Food, 16-Minute Meals, and Other Delicious Ways to Solve Supper!', 'Price, £': 56.41}\n",
      "{'Title': 'My Paris Kitchen: Recipes and Stories', 'Price, £': 33.37}\n",
      "{'Title': 'Mama Tried: Traditional Italian Cooking for the Screwed, Crude, Vegan, and Tattooed', 'Price, £': 14.02}\n",
      "{'Title': 'Layered: Baking, Building, and Styling Spectacular Cakes', 'Price, £': 40.11}\n",
      "{'Title': 'The Dirty Little Secrets of Getting Your Dream Job', 'Price, £': 33.34}\n",
      "{'Title': 'In Her Wake', 'Price, £': 12.84}\n",
      "{'Title': 'The Elephant Tree', 'Price, £': 23.82}\n",
      "{'Title': 'Behind Closed Doors', 'Price, £': 52.22}\n",
      "{'Title': 'When We Collided', 'Price, £': 31.77}\n",
      "{'Title': 'The Four Agreements: A Practical Guide to Personal Freedom', 'Price, £': 17.66}\n",
      "{'Title': \"The Activist's Tao Te Ching: Ancient Advice for a Modern Revolution\", 'Price, £': 32.24}\n",
      "{'Title': 'Online Marketing for Busy Authors: A Step-By-Step Guide', 'Price, £': 46.35}\n",
      "{'Title': 'How to Be Miserable: 40 Strategies You Already Use', 'Price, £': 46.03}\n",
      "{'Title': '(Un)Qualified: How God Uses Broken People to Do Big Things', 'Price, £': 54.0}\n",
      "{'Title': 'The Bulletproof Diet: Lose up to a Pound a Day, Reclaim Energy and Focus, Upgrade Your Life', 'Price, £': 49.05}\n",
      "{'Title': 'Libertarianism for Beginners', 'Price, £': 51.33}\n"
     ]
    }
   ],
   "source": [
    "# Использование проекции - выведем наименование и цену по книгам с остатком > 15\n",
    "query = {\"In stock\": {\"$gt\": 15}}\n",
    "projection = {\"Title\": 1, \"Price, \\u00a3\": 1, \"_id\": 0}\n",
    "proj_docs = collection.find(query, projection)\n",
    "for doc in proj_docs:\n",
    "    print(doc)"
   ]
  },
  {
   "cell_type": "code",
   "execution_count": 56,
   "id": "5f8e7482",
   "metadata": {},
   "outputs": [
    {
     "name": "stdout",
     "output_type": "stream",
     "text": [
      "Количество книг по цене < £20: 196\n",
      "Количество книг по цене >= £20 и < £25: 299\n"
     ]
    }
   ],
   "source": [
    "# Использование оператора $lt и $gte\n",
    "query = {\"Price, \\u00a3\": {\"$lt\": 20}}\n",
    "print(f\"Количество книг по цене < \\u00a320: {collection.count_documents(query)}\")\n",
    "query = {\n",
    "    \"$and\":\n",
    "    [\n",
    "        {\"Price, \\u00a3\": {\"$gte\": 20},\n",
    "         \"Price, \\u00a3\": {\"$lt\": 25}}\n",
    "    ]\n",
    "}\n",
    "print(f\"Количество книг по цене >= \\u00a320 и < \\u00a325: {collection.count_documents(query)}\")"
   ]
  },
  {
   "cell_type": "code",
   "execution_count": 63,
   "id": "4b6d7bad",
   "metadata": {},
   "outputs": [
    {
     "name": "stdout",
     "output_type": "stream",
     "text": [
      "Количество книг, содержащих 'history' в названии (case-sensitive): 0\n",
      "Количество книг, содержащих 'history' в названии (case-insensitive): 16\n"
     ]
    }
   ],
   "source": [
    "# Использование оператора $regex\n",
    "query = {\"Title\": {\"$regex\": \"history\"}}\n",
    "print(f\"Количество книг, содержащих 'history' в названии (case-sensitive): {collection.count_documents(query)}\")\n",
    "query = {\"Title\": {\"$regex\": \"history\", \"$options\": \"i\"}}\n",
    "print(f\"Количество книг, содержащих 'history' в названии (case-insensitive): {collection.count_documents(query)}\")"
   ]
  },
  {
   "cell_type": "code",
   "execution_count": 64,
   "id": "3191cc90",
   "metadata": {},
   "outputs": [
    {
     "name": "stdout",
     "output_type": "stream",
     "text": [
      "Количество книг в категориях 'Travel', 'Mystery': 43\n"
     ]
    }
   ],
   "source": [
    "# Использование оператора $in\n",
    "query = {\"Category\": {\"$in\": [\"Travel\", \"Mystery\"]}}\n",
    "print(f\"Количество книг в категориях 'Travel', 'Mystery': {collection.count_documents(query)}\")"
   ]
  },
  {
   "cell_type": "code",
   "execution_count": 70,
   "id": "6ebd41de",
   "metadata": {},
   "outputs": [
    {
     "name": "stdout",
     "output_type": "stream",
     "text": [
      "Количество книг по цене не равной £33.29: 999\n"
     ]
    }
   ],
   "source": [
    "# Использование оператора $ne\n",
    "query = {\"Price, \\u00a3\" : {\"$ne\": 33.29}}\n",
    "print(f\"Количество книг по цене не равной \\u00a333.29: {collection.count_documents(query)}\")"
   ]
  }
 ],
 "metadata": {
  "kernelspec": {
   "display_name": "Python 3 (ipykernel)",
   "language": "python",
   "name": "python3"
  },
  "language_info": {
   "codemirror_mode": {
    "name": "ipython",
    "version": 3
   },
   "file_extension": ".py",
   "mimetype": "text/x-python",
   "name": "python",
   "nbconvert_exporter": "python",
   "pygments_lexer": "ipython3",
   "version": "3.11.5"
  }
 },
 "nbformat": 4,
 "nbformat_minor": 5
}
